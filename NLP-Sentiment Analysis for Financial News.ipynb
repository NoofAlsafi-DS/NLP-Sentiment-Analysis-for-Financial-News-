{
 "cells": [
  {
   "cell_type": "markdown",
   "id": "47fb8f4f",
   "metadata": {},
   "source": [
    "# NLP-Sentiment Analysis for Financial News "
   ]
  },
  {
   "cell_type": "markdown",
   "id": "5483a6eb",
   "metadata": {},
   "source": [
    "Dataset url: https://www.kaggle.com/datasets/ankurzing/sentiment-analysis-for-financial-news?select=all-data.csv"
   ]
  },
  {
   "cell_type": "code",
   "execution_count": 1,
   "id": "034c6107",
   "metadata": {},
   "outputs": [
    {
     "name": "stderr",
     "output_type": "stream",
     "text": [
      "[nltk_data] Downloading package vader_lexicon to\n",
      "[nltk_data]     /Users/noofas/nltk_data...\n",
      "[nltk_data]   Package vader_lexicon is already up-to-date!\n",
      "[nltk_data] Downloading package stopwords to\n",
      "[nltk_data]     /Users/noofas/nltk_data...\n",
      "[nltk_data]   Package stopwords is already up-to-date!\n",
      "[nltk_data] Downloading package wordnet to /Users/noofas/nltk_data...\n",
      "[nltk_data]   Package wordnet is already up-to-date!\n",
      "[nltk_data] Downloading package punkt to /Users/noofas/nltk_data...\n",
      "[nltk_data]   Package punkt is already up-to-date!\n"
     ]
    }
   ],
   "source": [
    "# Importing Libraries\n",
    "import numpy as np\n",
    "import pandas as pd\n",
    "import matplotlib.pyplot as plt\n",
    "from sklearn.naive_bayes import MultinomialNB\n",
    "from sklearn.linear_model import LogisticRegression\n",
    "import nltk\n",
    "from nltk.corpus import stopwords\n",
    "import re\n",
    "from nltk.stem import WordNetLemmatizer\n",
    "from sklearn.feature_extraction.text import TfidfVectorizer\n",
    "from sklearn.metrics import accuracy_score,confusion_matrix\n",
    "from sklearn.ensemble import AdaBoostClassifier\n",
    "from sklearn.tree import DecisionTreeClassifier\n",
    "from sklearn.model_selection import train_test_split\n",
    "import pickle\n",
    "import seaborn as sns\n",
    "import time\n",
    "nltk.download('vader_lexicon') \n",
    "nltk.download('stopwords') \n",
    "nltk.download('wordnet')\n",
    "nltk.download('punkt')\n",
    "\n",
    "import warnings\n",
    "warnings.filterwarnings('ignore')"
   ]
  },
  {
   "cell_type": "code",
   "execution_count": 2,
   "id": "85481237",
   "metadata": {},
   "outputs": [
    {
     "data": {
      "text/html": [
       "<div>\n",
       "<style scoped>\n",
       "    .dataframe tbody tr th:only-of-type {\n",
       "        vertical-align: middle;\n",
       "    }\n",
       "\n",
       "    .dataframe tbody tr th {\n",
       "        vertical-align: top;\n",
       "    }\n",
       "\n",
       "    .dataframe thead th {\n",
       "        text-align: right;\n",
       "    }\n",
       "</style>\n",
       "<table border=\"1\" class=\"dataframe\">\n",
       "  <thead>\n",
       "    <tr style=\"text-align: right;\">\n",
       "      <th></th>\n",
       "      <th>Label</th>\n",
       "      <th>Text</th>\n",
       "    </tr>\n",
       "  </thead>\n",
       "  <tbody>\n",
       "    <tr>\n",
       "      <th>0</th>\n",
       "      <td>neutral</td>\n",
       "      <td>According to Gran , the company has no plans t...</td>\n",
       "    </tr>\n",
       "    <tr>\n",
       "      <th>1</th>\n",
       "      <td>neutral</td>\n",
       "      <td>Technopolis plans to develop in stages an area...</td>\n",
       "    </tr>\n",
       "    <tr>\n",
       "      <th>2</th>\n",
       "      <td>negative</td>\n",
       "      <td>The international electronic industry company ...</td>\n",
       "    </tr>\n",
       "    <tr>\n",
       "      <th>3</th>\n",
       "      <td>positive</td>\n",
       "      <td>With the new production plant the company woul...</td>\n",
       "    </tr>\n",
       "    <tr>\n",
       "      <th>4</th>\n",
       "      <td>positive</td>\n",
       "      <td>According to the company 's updated strategy f...</td>\n",
       "    </tr>\n",
       "  </tbody>\n",
       "</table>\n",
       "</div>"
      ],
      "text/plain": [
       "      Label                                               Text\n",
       "0   neutral  According to Gran , the company has no plans t...\n",
       "1   neutral  Technopolis plans to develop in stages an area...\n",
       "2  negative  The international electronic industry company ...\n",
       "3  positive  With the new production plant the company woul...\n",
       "4  positive  According to the company 's updated strategy f..."
      ]
     },
     "execution_count": 2,
     "metadata": {},
     "output_type": "execute_result"
    }
   ],
   "source": [
    "# Read Dataset\n",
    "data = pd.read_csv('all-data.csv',encoding=\"latin1\",header=None)\n",
    "data.columns = [\"Label\",\"Text\"]\n",
    "data.head()"
   ]
  },
  {
   "cell_type": "code",
   "execution_count": 3,
   "id": "f4827f88",
   "metadata": {},
   "outputs": [
    {
     "data": {
      "text/plain": [
       "Label    0\n",
       "Text     0\n",
       "dtype: int64"
      ]
     },
     "execution_count": 3,
     "metadata": {},
     "output_type": "execute_result"
    }
   ],
   "source": [
    "#check whether are there any missing value or not\n",
    "data.isnull().sum()"
   ]
  },
  {
   "cell_type": "code",
   "execution_count": 47,
   "id": "73c45450",
   "metadata": {},
   "outputs": [
    {
     "data": {
      "image/png": "[encoded data removed]",
      "text/plain": [
       "<Figure size 360x360 with 1 Axes>"
      ]
     },
     "metadata": {},
     "output_type": "display_data"
    }
   ],
   "source": [
    "#check whether the dataset is balanced or unbalanced\n",
    "plt.subplots(figsize=(5,5))\n",
    "sns.countplot(data[\"Label\"])\n",
    "plt.show()"
   ]
  },
  {
   "cell_type": "markdown",
   "id": "99827ac9",
   "metadata": {},
   "source": [
    "#### Dataset is unbalanced, most of the dataset is neutral as we can predict."
   ]
  },
  {
   "cell_type": "code",
   "execution_count": 5,
   "id": "f27f4f3c",
   "metadata": {},
   "outputs": [
    {
     "data": {
      "text/plain": [
       "neutral     2879\n",
       "positive    1363\n",
       "negative     604\n",
       "Name: Label, dtype: int64"
      ]
     },
     "execution_count": 5,
     "metadata": {},
     "output_type": "execute_result"
    }
   ],
   "source": [
    "data[\"Label\"].value_counts()"
   ]
  },
  {
   "cell_type": "code",
   "execution_count": 6,
   "id": "079d31a3",
   "metadata": {},
   "outputs": [
    {
     "data": {
      "text/plain": [
       "Label\n",
       "negative    125.756623\n",
       "neutral     125.072247\n",
       "positive    135.647836\n",
       "Name: len, dtype: float64"
      ]
     },
     "execution_count": 6,
     "metadata": {},
     "output_type": "execute_result"
    }
   ],
   "source": [
    "#the lenghts by class\n",
    "data[\"len\"] = [len(text) for text in data[\"Text\"].values]\n",
    "\n",
    "data.groupby(\"Label\")[\"len\"].mean()"
   ]
  },
  {
   "cell_type": "markdown",
   "id": "e50ff297",
   "metadata": {},
   "source": [
    "## Cleaning Texts"
   ]
  },
  {
   "cell_type": "code",
   "execution_count": 7,
   "id": "d8b33864",
   "metadata": {},
   "outputs": [],
   "source": [
    "def cleanText(text):\n",
    "    \n",
    "    lemma = WordNetLemmatizer()\n",
    "    stp = stopwords.words('english')\n",
    "    \n",
    "    # This means remove everything except emojis, alphabetical and numerical characters\n",
    "    text = re.sub(\"[^a-zA-Z_#@\\s\\U00010000-\\U0010ffff]\",\" \",text)\n",
    "    \n",
    "    text = text.lower()\n",
    "    \n",
    "    # This mean split sentences by words (\"I am good\" => [\"I\",\"am\",\"good\"])\n",
    "    text = nltk.word_tokenize(text)\n",
    "    \n",
    "    # Lemmatizers convert words to their base form using dictionaries (going => go, bees => be , dog => dog)\n",
    "    text = [lemma.lemmatize(word) for word in text]\n",
    "    \n",
    "    # We should remove stopwords, stopwords are the words that has no special meaning such as I,You,Me,Was\n",
    "    text = [word for word in text if word not in stp]\n",
    "    \n",
    "    # Everything is ready, now we just need join the elements of lists ([\"feel\",\"good\"] => \"feel good\")\n",
    "    text = \" \".join(text)\n",
    "    \n",
    "    return text"
   ]
  },
  {
   "cell_type": "code",
   "execution_count": 8,
   "id": "29f1fb5d",
   "metadata": {},
   "outputs": [
    {
     "data": {
      "text/plain": [
       "'nowadays interested traditional text feature extraction method want learn foundation'"
      ]
     },
     "execution_count": 8,
     "metadata": {},
     "output_type": "execute_result"
    }
   ],
   "source": [
    "#Test cleanText Function\n",
    "cleanText(\"Nowadays I am interested in traditional text feature extraction methods, because I want to learn foundations\")"
   ]
  },
  {
   "cell_type": "code",
   "execution_count": 9,
   "id": "eb128c11",
   "metadata": {},
   "outputs": [
    {
     "name": "stdout",
     "output_type": "stream",
     "text": [
      "==========\n",
      "Texts are cleaned, this process took 2.22 seconds \n",
      " \n",
      "\n",
      "according gran company ha plan move production russia although company growing\n"
     ]
    }
   ],
   "source": [
    "start_time = time.time()\n",
    "cleanedText = []\n",
    "for text in data[\"Text\"]:\n",
    "    \n",
    "    cleanedText.append(cleanText(text))\n",
    "end_time = time.time()\n",
    "process_time = round(end_time-start_time,2)\n",
    "\n",
    "print(\"=\"*10)\n",
    "print(\"Texts are cleaned, this process took {} seconds \\n \\n\".format(process_time))\n",
    "\n",
    "print(cleanedText[0])"
   ]
  },
  {
   "cell_type": "code",
   "execution_count": 10,
   "id": "68307742",
   "metadata": {},
   "outputs": [],
   "source": [
    "#Convert categorical to Numarical\n",
    "y = []\n",
    "for label in data[\"Label\"]:\n",
    "    \n",
    "    if label==\"negative\":\n",
    "        y.append(0)\n",
    "        \n",
    "    elif label==\"positive\":\n",
    "        y.append(2)\n",
    "        \n",
    "    elif label==\"neutral\":\n",
    "        y.append(1)\n",
    "\n",
    "y = np.asarray(y)"
   ]
  },
  {
   "cell_type": "code",
   "execution_count": 11,
   "id": "14a69fbd",
   "metadata": {},
   "outputs": [
    {
     "data": {
      "text/html": [
       "<div>\n",
       "<style scoped>\n",
       "    .dataframe tbody tr th:only-of-type {\n",
       "        vertical-align: middle;\n",
       "    }\n",
       "\n",
       "    .dataframe tbody tr th {\n",
       "        vertical-align: top;\n",
       "    }\n",
       "\n",
       "    .dataframe thead th {\n",
       "        text-align: right;\n",
       "    }\n",
       "</style>\n",
       "<table border=\"1\" class=\"dataframe\">\n",
       "  <thead>\n",
       "    <tr style=\"text-align: right;\">\n",
       "      <th></th>\n",
       "      <th>Label</th>\n",
       "      <th>Text</th>\n",
       "      <th>len</th>\n",
       "    </tr>\n",
       "  </thead>\n",
       "  <tbody>\n",
       "    <tr>\n",
       "      <th>0</th>\n",
       "      <td>neutral</td>\n",
       "      <td>According to Gran , the company has no plans t...</td>\n",
       "      <td>127</td>\n",
       "    </tr>\n",
       "    <tr>\n",
       "      <th>1</th>\n",
       "      <td>neutral</td>\n",
       "      <td>Technopolis plans to develop in stages an area...</td>\n",
       "      <td>190</td>\n",
       "    </tr>\n",
       "    <tr>\n",
       "      <th>2</th>\n",
       "      <td>negative</td>\n",
       "      <td>The international electronic industry company ...</td>\n",
       "      <td>228</td>\n",
       "    </tr>\n",
       "    <tr>\n",
       "      <th>3</th>\n",
       "      <td>positive</td>\n",
       "      <td>With the new production plant the company woul...</td>\n",
       "      <td>206</td>\n",
       "    </tr>\n",
       "    <tr>\n",
       "      <th>4</th>\n",
       "      <td>positive</td>\n",
       "      <td>According to the company 's updated strategy f...</td>\n",
       "      <td>203</td>\n",
       "    </tr>\n",
       "    <tr>\n",
       "      <th>...</th>\n",
       "      <td>...</td>\n",
       "      <td>...</td>\n",
       "      <td>...</td>\n",
       "    </tr>\n",
       "    <tr>\n",
       "      <th>4841</th>\n",
       "      <td>negative</td>\n",
       "      <td>LONDON MarketWatch -- Share prices ended lower...</td>\n",
       "      <td>144</td>\n",
       "    </tr>\n",
       "    <tr>\n",
       "      <th>4842</th>\n",
       "      <td>neutral</td>\n",
       "      <td>Rinkuskiai 's beer sales fell by 6.5 per cent ...</td>\n",
       "      <td>148</td>\n",
       "    </tr>\n",
       "    <tr>\n",
       "      <th>4843</th>\n",
       "      <td>negative</td>\n",
       "      <td>Operating profit fell to EUR 35.4 mn from EUR ...</td>\n",
       "      <td>108</td>\n",
       "    </tr>\n",
       "    <tr>\n",
       "      <th>4844</th>\n",
       "      <td>negative</td>\n",
       "      <td>Net sales of the Paper segment decreased to EU...</td>\n",
       "      <td>226</td>\n",
       "    </tr>\n",
       "    <tr>\n",
       "      <th>4845</th>\n",
       "      <td>negative</td>\n",
       "      <td>Sales in Finland decreased by 10.5 % in Januar...</td>\n",
       "      <td>95</td>\n",
       "    </tr>\n",
       "  </tbody>\n",
       "</table>\n",
       "<p>4846 rows × 3 columns</p>\n",
       "</div>"
      ],
      "text/plain": [
       "         Label                                               Text  len\n",
       "0      neutral  According to Gran , the company has no plans t...  127\n",
       "1      neutral  Technopolis plans to develop in stages an area...  190\n",
       "2     negative  The international electronic industry company ...  228\n",
       "3     positive  With the new production plant the company woul...  206\n",
       "4     positive  According to the company 's updated strategy f...  203\n",
       "...        ...                                                ...  ...\n",
       "4841  negative  LONDON MarketWatch -- Share prices ended lower...  144\n",
       "4842   neutral  Rinkuskiai 's beer sales fell by 6.5 per cent ...  148\n",
       "4843  negative  Operating profit fell to EUR 35.4 mn from EUR ...  108\n",
       "4844  negative  Net sales of the Paper segment decreased to EU...  226\n",
       "4845  negative  Sales in Finland decreased by 10.5 % in Januar...   95\n",
       "\n",
       "[4846 rows x 3 columns]"
      ]
     },
     "execution_count": 11,
     "metadata": {},
     "output_type": "execute_result"
    }
   ],
   "source": [
    "data"
   ]
  },
  {
   "cell_type": "markdown",
   "id": "6e447298",
   "metadata": {},
   "source": [
    "## TF-IDF Vectorizing"
   ]
  },
  {
   "cell_type": "code",
   "execution_count": 12,
   "id": "db59c440",
   "metadata": {},
   "outputs": [
    {
     "name": "stdout",
     "output_type": "stream",
     "text": [
      "Vectorizing cleaned text using TF-IDF approach took 0.22 seconds\n"
     ]
    },
    {
     "data": {
      "text/plain": [
       "(4846, 4000)"
      ]
     },
     "execution_count": 12,
     "metadata": {},
     "output_type": "execute_result"
    }
   ],
   "source": [
    "# First, we need a vectorizer object\n",
    "vectorizer = TfidfVectorizer(max_features=4000)\n",
    "# This means just consider most used 4000 words\n",
    "\n",
    "start = time.time()\n",
    "\n",
    "x = vectorizer.fit_transform(cleanedText).toarray()\n",
    "\n",
    "process_time = round(time.time()-start,2)\n",
    "\n",
    "print(\"Vectorizing cleaned text using TF-IDF approach took {} seconds\".format(process_time))\n",
    "\n",
    "x.shape"
   ]
  },
  {
   "cell_type": "code",
   "execution_count": 13,
   "id": "9738269b",
   "metadata": {},
   "outputs": [
    {
     "name": "stdout",
     "output_type": "stream",
     "text": [
      "(3876, 4000)\n",
      "(970, 4000)\n",
      "(3876,)\n",
      "(970,)\n"
     ]
    }
   ],
   "source": [
    "#Splitting features/target and train/test data\n",
    "x_train,x_test,y_train,y_test = train_test_split(x,y,random_state=42,test_size=0.2)\n",
    "\n",
    "print(x_train.shape)\n",
    "print(x_test.shape)\n",
    "print(y_train.shape)\n",
    "print(y_test.shape)"
   ]
  },
  {
   "cell_type": "markdown",
   "id": "c6b0dd25",
   "metadata": {},
   "source": [
    "## Building Classifiers"
   ]
  },
  {
   "cell_type": "code",
   "execution_count": 14,
   "id": "d0878bcd",
   "metadata": {},
   "outputs": [],
   "source": [
    "#using Piplaine\n",
    "models = {\n",
    "    MultinomialNB():'Multinomial Naive Bayes',\n",
    "    LogisticRegression(max_iter=300):'Logistic Regression',\n",
    "    AdaBoostClassifier(base_estimator=DecisionTreeClassifier(),n_estimators=100):\"AdaBoostClassifier\"\n",
    "}\n",
    "for m in models.keys():\n",
    "    m.fit(x_train,y_train)"
   ]
  },
  {
   "cell_type": "code",
   "execution_count": 15,
   "id": "0b99d7c6",
   "metadata": {},
   "outputs": [
    {
     "name": "stdout",
     "output_type": "stream",
     "text": [
      "Accuracy Score for Multinomial Naive Bayes is :  68.76288659793815 %\n",
      "Accuracy Score for Logistic Regression is :  74.5360824742268 %\n",
      "Accuracy Score for AdaBoostClassifier is :  70.82474226804123 %\n"
     ]
    }
   ],
   "source": [
    "# Check Accuracy for each model\n",
    "for model,name in models.items():\n",
    "     print(f\"Accuracy Score for {name} is : \",model.score(x_test,y_test)*100,\"%\")"
   ]
  },
  {
   "cell_type": "code",
   "execution_count": 41,
   "id": "02fc51ce",
   "metadata": {},
   "outputs": [
    {
     "data": {
      "image/png": "[encoded data removed]",
      "text/plain": [
       "<Figure size 432x288 with 2 Axes>"
      ]
     },
     "metadata": {
      "needs_background": "light"
     },
     "output_type": "display_data"
    },
    {
     "data": {
      "image/png": "[encoded data removed]",
      "text/plain": [
       "<Figure size 432x288 with 2 Axes>"
      ]
     },
     "metadata": {
      "needs_background": "light"
     },
     "output_type": "display_data"
    },
    {
     "data": {
      "image/png": "[encoded data removed]",
      "text/plain": [
       "<Figure size 432x288 with 2 Axes>"
      ]
     },
     "metadata": {
      "needs_background": "light"
     },
     "output_type": "display_data"
    }
   ],
   "source": [
    "# Plot Heatmaps for all models\n",
    "\n",
    "class_names = [0,1]\n",
    "fig,ax = plt.subplots()\n",
    "tick_marks = np.arange(len(class_names))\n",
    "plt.xticks(tick_marks,class_names)\n",
    "plt.yticks(tick_marks,class_names)\n",
    "\n",
    "\n",
    "for model,name in models.items():\n",
    "    y_pred = model.predict(x_test)\n",
    "    cnf_matrix = confusion_matrix(y_test,y_pred)\n",
    "    sns.heatmap(pd.DataFrame(cnf_matrix), annot = True, cmap = 'Blues',\n",
    "            fmt = 'g')\n",
    "    ax.xaxis.set_label_position('top')\n",
    "    plt.tight_layout()\n",
    "    plt.title(f'Heat Map for {name}', {'fontsize':20})\n",
    "    plt.ylabel('Actual label')\n",
    "    plt.xlabel('Predicted label')\n",
    "    plt.show()"
   ]
  },
  {
   "cell_type": "markdown",
   "id": "4ccd7dbe",
   "metadata": {},
   "source": [
    "## Use the best Classifier: LogisticRegression"
   ]
  },
  {
   "cell_type": "code",
   "execution_count": 17,
   "id": "fb3e506a",
   "metadata": {},
   "outputs": [
    {
     "data": {
      "text/plain": [
       "LogisticRegression(max_iter=300)"
      ]
     },
     "execution_count": 17,
     "metadata": {},
     "output_type": "execute_result"
    }
   ],
   "source": [
    "class_sv=LogisticRegression(max_iter=300)\n",
    "class_sv.fit(x_train, y_train)"
   ]
  },
  {
   "cell_type": "code",
   "execution_count": 18,
   "id": "1156c3db",
   "metadata": {},
   "outputs": [
    {
     "name": "stdout",
     "output_type": "stream",
     "text": [
      "Test set accuracy of our LogisticRegression Classifier is 74.54\n"
     ]
    }
   ],
   "source": [
    "#accuracy\n",
    "y_pred = class_sv.predict(x_test)\n",
    "\n",
    "print(\"Test set accuracy of our LogisticRegression Classifier is {}\".format(round(accuracy_score(y_pred,y_test)*100,2)))"
   ]
  },
  {
   "cell_type": "code",
   "execution_count": 42,
   "id": "d55b99c0",
   "metadata": {},
   "outputs": [
    {
     "data": {
      "image/png": "[encoded data removed]",
      "text/plain": [
       "<Figure size 432x432 with 2 Axes>"
      ]
     },
     "metadata": {
      "needs_background": "light"
     },
     "output_type": "display_data"
    }
   ],
   "source": [
    "#plot confusion_matrix\n",
    "plt.subplots(figsize=(6,6))\n",
    "sns.heatmap(confusion_matrix(y_pred=y_pred,y_true=y_test),annot=True,fmt=\".1f\",linewidths=1.5,cmap=\"Blues\")\n",
    "plt.show()"
   ]
  },
  {
   "cell_type": "markdown",
   "id": "8505c56d",
   "metadata": {},
   "source": [
    "## Saving best Model "
   ]
  },
  {
   "cell_type": "code",
   "execution_count": 20,
   "id": "0dd6f32f",
   "metadata": {},
   "outputs": [],
   "source": [
    "pickle.dump(class_sv,open(\"class_sv.pickle\",\"wb\"))\n",
    "pickle.dump(vectorizer,open(\"vectorizer.pickle\",\"wb\"))"
   ]
  },
  {
   "cell_type": "code",
   "execution_count": 37,
   "id": "f0579f4e",
   "metadata": {},
   "outputs": [],
   "source": [
    "def analyseText(text):\n",
    "    \n",
    "    cls = pickle.load(open(\"class_sv.pickle\",\"rb\"))\n",
    "    vct = pickle.load(open(\"vectorizer.pickle\",\"rb\"))\n",
    "    \n",
    "    # First we need to clean the text given\n",
    "    text = cleanText(text)\n",
    "    \n",
    "    # Then we need to vectorize the text\n",
    "    text = vct.transform([text])\n",
    "    \n",
    "    # And let's predict results using vector\n",
    "    pred = cls.predict(text)\n",
    "    if pred[0] == 0:\n",
    "        decision = \"negative\"\n",
    "    \n",
    "    elif pred[0] == 1:\n",
    "        decision = \"neutral\"\n",
    "        \n",
    "    elif pred[0] == 2:\n",
    "        decision = \"positive\"\n",
    "        \n",
    "    return decision"
   ]
  },
  {
   "cell_type": "markdown",
   "id": "e4272ef9",
   "metadata": {},
   "source": [
    "## Check Result"
   ]
  },
  {
   "cell_type": "code",
   "execution_count": 38,
   "id": "18c6fa2c",
   "metadata": {},
   "outputs": [
    {
     "data": {
      "text/plain": [
       "'neutral'"
      ]
     },
     "execution_count": 38,
     "metadata": {},
     "output_type": "execute_result"
    }
   ],
   "source": [
    "analyseText(\"Rental of building equipment accounted for 88 percent of the operating income \")"
   ]
  },
  {
   "cell_type": "code",
   "execution_count": 39,
   "id": "e08c32cb",
   "metadata": {},
   "outputs": [
    {
     "data": {
      "text/plain": [
       "'positive'"
      ]
     },
     "execution_count": 39,
     "metadata": {},
     "output_type": "execute_result"
    }
   ],
   "source": [
    "analyseText(\"O'Leary 's Material Handling Services , located in Perth , is the leading company in Western Australia that supplies , installs and provides service for tail lifts .\")"
   ]
  },
  {
   "cell_type": "code",
   "execution_count": 40,
   "id": "98328e65",
   "metadata": {},
   "outputs": [
    {
     "data": {
      "text/plain": [
       "'negative'"
      ]
     },
     "execution_count": 40,
     "metadata": {},
     "output_type": "execute_result"
    }
   ],
   "source": [
    "analyseText(\" he international electronic industry company Elcoteq has laid off tens of employees from its Tallinn facility ; contrary to earlier layoffs the company contracted the ranks of its office workers , the daily Postimees reported negative \")"
   ]
  }
 ],
 "metadata": {
  "kernelspec": {
   "display_name": "Python 3 (ipykernel)",
   "language": "python",
   "name": "python3"
  },
  "language_info": {
   "codemirror_mode": {
    "name": "ipython",
    "version": 3
   },
   "file_extension": ".py",
   "mimetype": "text/x-python",
   "name": "python",
   "nbconvert_exporter": "python",
   "pygments_lexer": "ipython3",
   "version": "3.9.7"
  }
 },
 "nbformat": 4,
 "nbformat_minor": 5
}
